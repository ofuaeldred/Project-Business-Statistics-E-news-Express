{
 "cells": [
  {
   "cell_type": "markdown",
   "id": "6yDxo9u0d9Na",
   "metadata": {
    "id": "6yDxo9u0d9Na"
   },
   "source": [
    "# Project Business Statistics: E-news Express\n",
    "\n",
    "**Marks: 60**"
   ]
  },
  {
   "cell_type": "markdown",
   "id": "SrLd-ICEmPSD",
   "metadata": {
    "id": "SrLd-ICEmPSD"
   },
   "source": [
    "## Define Problem Statement and Objectives"
   ]
  },
  {
   "cell_type": "markdown",
   "id": "9Vt1PLLqmXNn",
   "metadata": {
    "id": "9Vt1PLLqmXNn"
   },
   "source": [
    "## Description\n",
    "\n",
    "### Business Context\n",
    "\n",
    "The advent of e-news, or electronic news, portals has offered us a great opportunity to quickly get updates on the day-to-day events occurring globally. The information on these portals is retrieved electronically from online databases, processed using a variety of software, and then transmitted to the users. There are multiple advantages of transmitting new electronically, like faster access to the content and the ability to utilize different technologies such as audio, graphics, video, and other interactive elements that are either not being used or aren’t common yet in traditional newspapers.\n",
    "\n",
    "E-news Express, an online news portal, aims to expand its business by acquiring new subscribers. With every visitor to the website taking certain actions based on their interest, the company plans to analyze these actions to understand user interests and determine how to drive better engagement. The executives at E-news Express are of the opinion that there has been a decline in new monthly subscribers compared to the past year because the current webpage is not designed well enough in terms of the outline & recommended content to keep customers engaged long enough to make a decision to subscribe.\n",
    "\n",
    "[Companies often analyze user responses to two variants of a product to decide which of the two variants is more effective. This experimental technique, known as A/B testing, is used to determine whether a new feature attracts users based on a chosen metric.]\n",
    "\n",
    "### Objective\n",
    "\n",
    "The design team of the company has researched and created a new landing page that has a new outline & more relevant content shown compared to the old page. In order to test the effectiveness of the new landing page in gathering new subscribers, the Data Science team conducted an experiment by randomly selecting 100 users and dividing them equally into two groups. The existing landing page was served to the first group (control group) and the new landing page to the second group (treatment group). Data regarding the interaction of users in both groups with the two versions of the landing page was collected. Being a data scientist in E-news Express, you have been asked to explore the data and perform a statistical analysis (at a significance level of 5%) to determine the effectiveness of the new landing page in gathering new subscribers for the news portal by answering the following questions:\n",
    "\n",
    "Do the users spend more time on the new landing page than on the existing landing page?\n",
    "Is the conversion rate (the proportion of users who visit the landing page and get converted) for the new page greater than the conversion rate for the old page?\n",
    "Does the converted status depend on the preferred language?\n",
    "Is the time spent on the new page the same for the different language users?\n",
    " \n",
    "\n",
    "#### Data Dictionary\n",
    "\n",
    "The data contains information regarding the interaction of users in both groups with the two versions of the landing page.\n",
    "\n",
    "user_id - Unique user ID of the person visiting the website\n",
    "\n",
    "group - Whether the user belongs to the first group (control) or the second group (treatment)\n",
    "\n",
    "landing_page - Whether the landing page is new or old\n",
    "\n",
    "time_spent_on_the_page - Time (in minutes) spent by the user on the landing page\n",
    "\n",
    "converted - Whether the user gets converted to a subscriber of the news portal or not\n",
    "\n",
    "language_preferred - Language chosen by the user to view the landing page"
   ]
  },
  {
   "cell_type": "markdown",
   "id": "a6a3d218",
   "metadata": {
    "id": "a6a3d218"
   },
   "source": [
    "## Import all the necessary libraries"
   ]
  },
  {
   "cell_type": "code",
   "execution_count": 76,
   "id": "658c5dec",
   "metadata": {
    "id": "658c5dec"
   },
   "outputs": [],
   "source": [
    "#library used for data manipulation and analysis\n",
    "import pandas as pd \n",
    "\n",
    "# library used for working with arrays.\n",
    "import numpy as np \n",
    "\n",
    "# library for plots and visualisations\n",
    "import matplotlib.pyplot as plt \n",
    "\n",
    "# library for visualisations\n",
    "import seaborn as sns \n",
    "%matplotlib inline \n",
    "\n",
    "# this library contains a large number of probability distributions as well as a growing library of statistical functions\n",
    "import scipy.stats as stats "
   ]
  },
  {
   "cell_type": "markdown",
   "id": "6970dd99",
   "metadata": {
    "id": "6970dd99"
   },
   "source": [
    "## Reading the Data into a DataFrame"
   ]
  },
  {
   "cell_type": "code",
   "execution_count": 77,
   "id": "d3b95640",
   "metadata": {
    "id": "d3b95640"
   },
   "outputs": [],
   "source": [
    "# read the data\n",
    "df = pd.read_csv(\"C:/Users/Eldred OFUA/Desktop/Data Science and Business Analytics PG Program/2. Business Statistics/4.0 Project 2/abtest.csv\")"
   ]
  },
  {
   "cell_type": "markdown",
   "id": "9d75cfa2",
   "metadata": {
    "id": "9d75cfa2"
   },
   "source": [
    "## Explore the dataset and extract insights using Exploratory Data Analysis"
   ]
  },
  {
   "cell_type": "markdown",
   "id": "27201534",
   "metadata": {
    "id": "27201534"
   },
   "source": [
    "- Data Overview\n",
    "  - Viewing the first and last few rows of the dataset\n",
    "  - Checking the shape of the dataset\n",
    "  - Getting the statistical summary for the variables\n",
    "- Check for missing values\n",
    "- Check for duplicates"
   ]
  },
  {
   "cell_type": "code",
   "execution_count": 78,
   "id": "e1ad11d4",
   "metadata": {
    "id": "e1ad11d4"
   },
   "outputs": [
    {
     "name": "stdout",
     "output_type": "stream",
     "text": [
      "<class 'pandas.core.frame.DataFrame'>\n",
      "RangeIndex: 100 entries, 0 to 99\n",
      "Data columns (total 6 columns):\n",
      " #   Column                  Non-Null Count  Dtype  \n",
      "---  ------                  --------------  -----  \n",
      " 0   user_id                 100 non-null    int64  \n",
      " 1   group                   100 non-null    object \n",
      " 2   landing_page            100 non-null    object \n",
      " 3   time_spent_on_the_page  100 non-null    float64\n",
      " 4   converted               100 non-null    object \n",
      " 5   language_preferred      100 non-null    object \n",
      "dtypes: float64(1), int64(1), object(4)\n",
      "memory usage: 4.8+ KB\n"
     ]
    }
   ],
   "source": [
    "# DataFrame Summary\n",
    "df.info()"
   ]
  },
  {
   "cell_type": "markdown",
   "id": "d96c2362",
   "metadata": {},
   "source": [
    "#### Observations:\n",
    "\n",
    "    There are 4 object datatype columns and 2 numerical datatype columns.\n",
    "\n",
    "    There are no missing data from the dataset given.\n",
    "\n",
    "    user_id is an integer datatype. It is used as an identifier only, to identify the person visiting the site.\n",
    "    \n",
    "    time_spent_on_landing_page a float datatype.\n",
    "\n",
    "    group, landing page, converted nad language_preferred are all object object datatypes."
   ]
  },
  {
   "cell_type": "code",
   "execution_count": 79,
   "id": "8be86e60",
   "metadata": {},
   "outputs": [
    {
     "data": {
      "text/html": [
       "<div>\n",
       "<style scoped>\n",
       "    .dataframe tbody tr th:only-of-type {\n",
       "        vertical-align: middle;\n",
       "    }\n",
       "\n",
       "    .dataframe tbody tr th {\n",
       "        vertical-align: top;\n",
       "    }\n",
       "\n",
       "    .dataframe thead th {\n",
       "        text-align: right;\n",
       "    }\n",
       "</style>\n",
       "<table border=\"1\" class=\"dataframe\">\n",
       "  <thead>\n",
       "    <tr style=\"text-align: right;\">\n",
       "      <th></th>\n",
       "      <th>user_id</th>\n",
       "      <th>group</th>\n",
       "      <th>landing_page</th>\n",
       "      <th>time_spent_on_the_page</th>\n",
       "      <th>converted</th>\n",
       "      <th>language_preferred</th>\n",
       "    </tr>\n",
       "  </thead>\n",
       "  <tbody>\n",
       "    <tr>\n",
       "      <th>0</th>\n",
       "      <td>546592</td>\n",
       "      <td>control</td>\n",
       "      <td>old</td>\n",
       "      <td>3.48</td>\n",
       "      <td>no</td>\n",
       "      <td>Spanish</td>\n",
       "    </tr>\n",
       "    <tr>\n",
       "      <th>1</th>\n",
       "      <td>546468</td>\n",
       "      <td>treatment</td>\n",
       "      <td>new</td>\n",
       "      <td>7.13</td>\n",
       "      <td>yes</td>\n",
       "      <td>English</td>\n",
       "    </tr>\n",
       "    <tr>\n",
       "      <th>2</th>\n",
       "      <td>546462</td>\n",
       "      <td>treatment</td>\n",
       "      <td>new</td>\n",
       "      <td>4.40</td>\n",
       "      <td>no</td>\n",
       "      <td>Spanish</td>\n",
       "    </tr>\n",
       "    <tr>\n",
       "      <th>3</th>\n",
       "      <td>546567</td>\n",
       "      <td>control</td>\n",
       "      <td>old</td>\n",
       "      <td>3.02</td>\n",
       "      <td>no</td>\n",
       "      <td>French</td>\n",
       "    </tr>\n",
       "    <tr>\n",
       "      <th>4</th>\n",
       "      <td>546459</td>\n",
       "      <td>treatment</td>\n",
       "      <td>new</td>\n",
       "      <td>4.75</td>\n",
       "      <td>yes</td>\n",
       "      <td>Spanish</td>\n",
       "    </tr>\n",
       "  </tbody>\n",
       "</table>\n",
       "</div>"
      ],
      "text/plain": [
       "   user_id      group landing_page  time_spent_on_the_page converted  \\\n",
       "0   546592    control          old                    3.48        no   \n",
       "1   546468  treatment          new                    7.13       yes   \n",
       "2   546462  treatment          new                    4.40        no   \n",
       "3   546567    control          old                    3.02        no   \n",
       "4   546459  treatment          new                    4.75       yes   \n",
       "\n",
       "  language_preferred  \n",
       "0            Spanish  \n",
       "1            English  \n",
       "2            Spanish  \n",
       "3             French  \n",
       "4            Spanish  "
      ]
     },
     "execution_count": 79,
     "metadata": {},
     "output_type": "execute_result"
    }
   ],
   "source": [
    "# Checking the first five rows of the table under the heading row:\n",
    "df.head()"
   ]
  },
  {
   "cell_type": "markdown",
   "id": "80f9b310",
   "metadata": {},
   "source": [
    "#### Observations:\n",
    "\n",
    "The DataFrame has 6 columns as mentioned in the Data Dictionary. Data in each row corresponds the details of what a visitor does on the site."
   ]
  },
  {
   "cell_type": "code",
   "execution_count": 80,
   "id": "d7c976c5",
   "metadata": {},
   "outputs": [
    {
     "data": {
      "text/html": [
       "<div>\n",
       "<style scoped>\n",
       "    .dataframe tbody tr th:only-of-type {\n",
       "        vertical-align: middle;\n",
       "    }\n",
       "\n",
       "    .dataframe tbody tr th {\n",
       "        vertical-align: top;\n",
       "    }\n",
       "\n",
       "    .dataframe thead th {\n",
       "        text-align: right;\n",
       "    }\n",
       "</style>\n",
       "<table border=\"1\" class=\"dataframe\">\n",
       "  <thead>\n",
       "    <tr style=\"text-align: right;\">\n",
       "      <th></th>\n",
       "      <th>user_id</th>\n",
       "      <th>group</th>\n",
       "      <th>landing_page</th>\n",
       "      <th>time_spent_on_the_page</th>\n",
       "      <th>converted</th>\n",
       "      <th>language_preferred</th>\n",
       "    </tr>\n",
       "  </thead>\n",
       "  <tbody>\n",
       "    <tr>\n",
       "      <th>95</th>\n",
       "      <td>546446</td>\n",
       "      <td>treatment</td>\n",
       "      <td>new</td>\n",
       "      <td>5.15</td>\n",
       "      <td>no</td>\n",
       "      <td>Spanish</td>\n",
       "    </tr>\n",
       "    <tr>\n",
       "      <th>96</th>\n",
       "      <td>546544</td>\n",
       "      <td>control</td>\n",
       "      <td>old</td>\n",
       "      <td>6.52</td>\n",
       "      <td>yes</td>\n",
       "      <td>English</td>\n",
       "    </tr>\n",
       "    <tr>\n",
       "      <th>97</th>\n",
       "      <td>546472</td>\n",
       "      <td>treatment</td>\n",
       "      <td>new</td>\n",
       "      <td>7.07</td>\n",
       "      <td>yes</td>\n",
       "      <td>Spanish</td>\n",
       "    </tr>\n",
       "    <tr>\n",
       "      <th>98</th>\n",
       "      <td>546481</td>\n",
       "      <td>treatment</td>\n",
       "      <td>new</td>\n",
       "      <td>6.20</td>\n",
       "      <td>yes</td>\n",
       "      <td>Spanish</td>\n",
       "    </tr>\n",
       "    <tr>\n",
       "      <th>99</th>\n",
       "      <td>546483</td>\n",
       "      <td>treatment</td>\n",
       "      <td>new</td>\n",
       "      <td>5.86</td>\n",
       "      <td>yes</td>\n",
       "      <td>English</td>\n",
       "    </tr>\n",
       "  </tbody>\n",
       "</table>\n",
       "</div>"
      ],
      "text/plain": [
       "    user_id      group landing_page  time_spent_on_the_page converted  \\\n",
       "95   546446  treatment          new                    5.15        no   \n",
       "96   546544    control          old                    6.52       yes   \n",
       "97   546472  treatment          new                    7.07       yes   \n",
       "98   546481  treatment          new                    6.20       yes   \n",
       "99   546483  treatment          new                    5.86       yes   \n",
       "\n",
       "   language_preferred  \n",
       "95            Spanish  \n",
       "96            English  \n",
       "97            Spanish  \n",
       "98            Spanish  \n",
       "99            English  "
      ]
     },
     "execution_count": 80,
     "metadata": {},
     "output_type": "execute_result"
    }
   ],
   "source": [
    "# Checking the last five rows of the table:\n",
    "\n",
    "df.tail()"
   ]
  },
  {
   "cell_type": "markdown",
   "id": "3706f6e6",
   "metadata": {},
   "source": [
    "#### Observations:\n",
    "\n",
    "The DataFrame has 6 columns as mentioned in the Data Dictionary. The rows are complete 100 as shown in the dataFrame info."
   ]
  },
  {
   "cell_type": "code",
   "execution_count": 81,
   "id": "0ac15f22",
   "metadata": {},
   "outputs": [
    {
     "data": {
      "text/html": [
       "<div>\n",
       "<style scoped>\n",
       "    .dataframe tbody tr th:only-of-type {\n",
       "        vertical-align: middle;\n",
       "    }\n",
       "\n",
       "    .dataframe tbody tr th {\n",
       "        vertical-align: top;\n",
       "    }\n",
       "\n",
       "    .dataframe thead th {\n",
       "        text-align: right;\n",
       "    }\n",
       "</style>\n",
       "<table border=\"1\" class=\"dataframe\">\n",
       "  <thead>\n",
       "    <tr style=\"text-align: right;\">\n",
       "      <th></th>\n",
       "      <th>count</th>\n",
       "      <th>mean</th>\n",
       "      <th>std</th>\n",
       "      <th>min</th>\n",
       "      <th>25%</th>\n",
       "      <th>50%</th>\n",
       "      <th>75%</th>\n",
       "      <th>max</th>\n",
       "    </tr>\n",
       "  </thead>\n",
       "  <tbody>\n",
       "    <tr>\n",
       "      <th>user_id</th>\n",
       "      <td>100.0</td>\n",
       "      <td>546517.0000</td>\n",
       "      <td>52.295779</td>\n",
       "      <td>546443.00</td>\n",
       "      <td>546467.75</td>\n",
       "      <td>546492.500</td>\n",
       "      <td>546567.2500</td>\n",
       "      <td>546592.00</td>\n",
       "    </tr>\n",
       "    <tr>\n",
       "      <th>time_spent_on_the_page</th>\n",
       "      <td>100.0</td>\n",
       "      <td>5.3778</td>\n",
       "      <td>2.378166</td>\n",
       "      <td>0.19</td>\n",
       "      <td>3.88</td>\n",
       "      <td>5.415</td>\n",
       "      <td>7.0225</td>\n",
       "      <td>10.71</td>\n",
       "    </tr>\n",
       "  </tbody>\n",
       "</table>\n",
       "</div>"
      ],
      "text/plain": [
       "                        count         mean        std        min        25%  \\\n",
       "user_id                 100.0  546517.0000  52.295779  546443.00  546467.75   \n",
       "time_spent_on_the_page  100.0       5.3778   2.378166       0.19       3.88   \n",
       "\n",
       "                               50%          75%        max  \n",
       "user_id                 546492.500  546567.2500  546592.00  \n",
       "time_spent_on_the_page       5.415       7.0225      10.71  "
      ]
     },
     "execution_count": 81,
     "metadata": {},
     "output_type": "execute_result"
    }
   ],
   "source": [
    "# Checking the statistical summary:\n",
    "df.describe().T"
   ]
  },
  {
   "cell_type": "markdown",
   "id": "0d04c238",
   "metadata": {},
   "source": [
    "#### Observations:\n",
    "\n",
    "User ID is just an identifier for each visitor to the site.\n",
    "\n",
    "The time spent on the page ranges from 0.19 to 10.71 seconds, with an average time of around 5.37 seconds and a standard deviation of 2.38 seconds."
   ]
  },
  {
   "cell_type": "code",
   "execution_count": 82,
   "id": "7be3f50c",
   "metadata": {},
   "outputs": [
    {
     "data": {
      "text/plain": [
       "(100, 6)"
      ]
     },
     "execution_count": 82,
     "metadata": {},
     "output_type": "execute_result"
    }
   ],
   "source": [
    "# Checking the fshape of the table:\n",
    "df.shape"
   ]
  },
  {
   "cell_type": "markdown",
   "id": "d2b8cc84",
   "metadata": {},
   "source": [
    "#### Observations:\n",
    "The Dataset has 100 number of rows and 6 number of columns."
   ]
  },
  {
   "cell_type": "code",
   "execution_count": 83,
   "id": "2653136e",
   "metadata": {},
   "outputs": [
    {
     "data": {
      "text/plain": [
       "user_id                   0\n",
       "group                     0\n",
       "landing_page              0\n",
       "time_spent_on_the_page    0\n",
       "converted                 0\n",
       "language_preferred        0\n",
       "dtype: int64"
      ]
     },
     "execution_count": 83,
     "metadata": {},
     "output_type": "execute_result"
    }
   ],
   "source": [
    "# Checking for missing values\n",
    "\n",
    "df.isnull().sum()"
   ]
  },
  {
   "cell_type": "markdown",
   "id": "8db20750",
   "metadata": {},
   "source": [
    "### Observations\n",
    "\n",
    "There are no missing values"
   ]
  },
  {
   "cell_type": "markdown",
   "id": "68f3b2c9",
   "metadata": {
    "id": "68f3b2c9"
   },
   "source": [
    "### Univariate Analysis"
   ]
  },
  {
   "cell_type": "markdown",
   "id": "f779ee2f",
   "metadata": {
    "id": "1932d0f3"
   },
   "source": [
    "### User ID"
   ]
  },
  {
   "cell_type": "code",
   "execution_count": 84,
   "id": "9bd1dd11",
   "metadata": {},
   "outputs": [
    {
     "data": {
      "text/plain": [
       "100"
      ]
     },
     "execution_count": 84,
     "metadata": {},
     "output_type": "execute_result"
    }
   ],
   "source": [
    "# Check Unique User ID\n",
    "df['user_id'].nunique()"
   ]
  },
  {
   "cell_type": "markdown",
   "id": "ebc31271",
   "metadata": {},
   "source": [
    "#### Observation:\n",
    "\n",
    "    The are 100 unique user ID. This is a unique identifier for the people that entered the survey. It also shows that the sample size conducted is 100 persons."
   ]
  },
  {
   "cell_type": "markdown",
   "id": "9fb1c5fc",
   "metadata": {},
   "source": [
    "#### Group"
   ]
  },
  {
   "cell_type": "code",
   "execution_count": 85,
   "id": "10e29d24",
   "metadata": {},
   "outputs": [
    {
     "name": "stdout",
     "output_type": "stream",
     "text": [
      "2\n",
      "control      50\n",
      "treatment    50\n",
      "Name: group, dtype: int64\n"
     ]
    }
   ],
   "source": [
    "# Check Group\n",
    "print(df['group'].nunique())\n",
    "\n",
    "print(df['group'].value_counts())"
   ]
  },
  {
   "cell_type": "markdown",
   "id": "747e9add",
   "metadata": {},
   "source": [
    "#### Observation:\n",
    "\n",
    "    There are 2 different groups that partook in the survey - Treatment and Control Group. The data set also have 50 persons in both groups."
   ]
  },
  {
   "cell_type": "markdown",
   "id": "a7261ee5",
   "metadata": {},
   "source": [
    "#### Landing Page"
   ]
  },
  {
   "cell_type": "code",
   "execution_count": 86,
   "id": "18ab18f7",
   "metadata": {},
   "outputs": [
    {
     "data": {
      "image/png": "[encoded data removed]",
      "text/plain": [
       "<Figure size 432x288 with 1 Axes>"
      ]
     },
     "metadata": {
      "needs_background": "light"
     },
     "output_type": "display_data"
    },
    {
     "data": {
      "image/png": "[encoded data removed]",
      "text/plain": [
       "<Figure size 432x288 with 1 Axes>"
      ]
     },
     "metadata": {
      "needs_background": "light"
     },
     "output_type": "display_data"
    }
   ],
   "source": [
    "# Checking time spent on the page.\n",
    "\n",
    "plt.title('Histogram:Time Spent on Page')\n",
    "sns.histplot(data=df, x='time_spent_on_the_page', kde=True)\n",
    "plt.show();\n",
    "sns.boxplot(data=df, x='time_spent_on_the_page')\n",
    "plt.show();"
   ]
  },
  {
   "cell_type": "markdown",
   "id": "f28b788e",
   "metadata": {},
   "source": [
    "#### Observations:\n",
    "\n",
    "    The average time and the median time spent on the page is almost equal. Hence, the normal distribution observed.\n",
    "    The distribution of the time spent on the page shows that it is normally distributed."
   ]
  },
  {
   "cell_type": "markdown",
   "id": "b449e625",
   "metadata": {},
   "source": [
    "#### Converted"
   ]
  },
  {
   "cell_type": "code",
   "execution_count": 87,
   "id": "ed9c7317",
   "metadata": {},
   "outputs": [
    {
     "data": {
      "text/plain": [
       "yes    54\n",
       "no     46\n",
       "Name: converted, dtype: int64"
      ]
     },
     "execution_count": 87,
     "metadata": {},
     "output_type": "execute_result"
    }
   ],
   "source": [
    "df['converted'].value_counts()"
   ]
  },
  {
   "cell_type": "code",
   "execution_count": 88,
   "id": "37feb143",
   "metadata": {},
   "outputs": [
    {
     "data": {
      "image/png": "[encoded data removed]",
      "text/plain": [
       "<Figure size 432x288 with 1 Axes>"
      ]
     },
     "metadata": {
      "needs_background": "light"
     },
     "output_type": "display_data"
    }
   ],
   "source": [
    "sns.countplot(data=df, x='converted');"
   ]
  },
  {
   "cell_type": "markdown",
   "id": "3d52e098",
   "metadata": {},
   "source": [
    "#### Observations:\n",
    "\n",
    "    There converted columns consist of 2 unique values - No and Yes.\n",
    "    The distribution shows that the percentage of 'yes' is 54%, while the percentage of 'no' is 46%."
   ]
  },
  {
   "cell_type": "markdown",
   "id": "1fc5ff63",
   "metadata": {},
   "source": [
    "#### Preferred Language"
   ]
  },
  {
   "cell_type": "code",
   "execution_count": 89,
   "id": "ab64738c",
   "metadata": {},
   "outputs": [
    {
     "name": "stdout",
     "output_type": "stream",
     "text": [
      "Spanish    34\n",
      "French     34\n",
      "English    32\n",
      "Name: language_preferred, dtype: int64\n"
     ]
    },
    {
     "data": {
      "image/png": "[encoded data removed]",
      "text/plain": [
       "<Figure size 432x288 with 1 Axes>"
      ]
     },
     "metadata": {
      "needs_background": "light"
     },
     "output_type": "display_data"
    }
   ],
   "source": [
    "\n",
    "print(df['language_preferred'].value_counts())\n",
    "\n",
    "sns.countplot(data=df, x='language_preferred');"
   ]
  },
  {
   "cell_type": "markdown",
   "id": "468d8698",
   "metadata": {},
   "source": [
    "#### Observations:\n",
    "\n",
    "    The preferred language columns consist of 3 unique values - Spanish, English and French.\n",
    "    The distribution shows that the percentage of 'Spanish' is 34%, the percentage of 'English' is 32% while the percentage of 'French' is 34%."
   ]
  },
  {
   "cell_type": "markdown",
   "id": "fad2de2f",
   "metadata": {
    "id": "fad2de2f"
   },
   "source": [
    "### Bivariate Analysis"
   ]
  },
  {
   "cell_type": "markdown",
   "id": "1dd19550",
   "metadata": {},
   "source": [
    "Checking the conversion rate and the relationship between the control and treatment group with the time spent on both the old and new landing pages."
   ]
  },
  {
   "cell_type": "code",
   "execution_count": 90,
   "id": "2961d237",
   "metadata": {},
   "outputs": [
    {
     "data": {
      "image/png": "[encoded data removed]",
      "text/plain": [
       "<Figure size 1080x720 with 1 Axes>"
      ]
     },
     "metadata": {
      "needs_background": "light"
     },
     "output_type": "display_data"
    }
   ],
   "source": [
    "plt.figure(figsize=(15,10))\n",
    "sns.boxplot(data=df, y='time_spent_on_the_page', x='group', hue = 'converted');"
   ]
  },
  {
   "cell_type": "markdown",
   "id": "e6f66312",
   "metadata": {},
   "source": [
    "#### Observations:\n",
    "\n",
    "    The control group and the treatment group have people that purchased subscription; and thses people spent more time on the landing page.\n",
    "    There are outliers present in this data set."
   ]
  },
  {
   "cell_type": "markdown",
   "id": "e44f36a9",
   "metadata": {},
   "source": [
    "Checking the relationship between the control and treatment group with the time spent on both the old and new landing pages in different languages."
   ]
  },
  {
   "cell_type": "code",
   "execution_count": 91,
   "id": "762b4894",
   "metadata": {},
   "outputs": [
    {
     "data": {
      "image/png": "[encoded data removed]",
      "text/plain": [
       "<Figure size 1080x504 with 1 Axes>"
      ]
     },
     "metadata": {
      "needs_background": "light"
     },
     "output_type": "display_data"
    }
   ],
   "source": [
    "plt.figure(figsize=(15,7))\n",
    "sns.boxplot(data=df, y='time_spent_on_the_page', x='group', hue = 'language_preferred');"
   ]
  },
  {
   "cell_type": "markdown",
   "id": "5924fc14",
   "metadata": {},
   "source": [
    "Varying amount of time spent on the landing pages of both groups."
   ]
  },
  {
   "cell_type": "markdown",
   "id": "27906576",
   "metadata": {
    "id": "27906576"
   },
   "source": [
    "## 1. Do the users spend more time on the new landing page than the existing landing page?"
   ]
  },
  {
   "cell_type": "markdown",
   "id": "e5fdf0c8",
   "metadata": {
    "id": "e5fdf0c8"
   },
   "source": [
    "### Perform Visual Analysis"
   ]
  },
  {
   "cell_type": "code",
   "execution_count": 92,
   "id": "6eZJa41eg21n",
   "metadata": {
    "id": "6eZJa41eg21n"
   },
   "outputs": [
    {
     "name": "stdout",
     "output_type": "stream",
     "text": [
      "Sample mean: 5.38\n"
     ]
    },
    {
     "data": {
      "image/png": "[encoded data removed]",
      "text/plain": [
       "<Figure size 360x360 with 1 Axes>"
      ]
     },
     "metadata": {
      "needs_background": "light"
     },
     "output_type": "display_data"
    }
   ],
   "source": [
    "# plot the distribution plot of time spent on the page.\n",
    "print('Sample mean:', np.round(df.time_spent_on_the_page.mean(),2))\n",
    "sns.displot(df.time_spent_on_the_page, kde=True)\n",
    "plt.show()"
   ]
  },
  {
   "cell_type": "markdown",
   "id": "500e130c",
   "metadata": {},
   "source": [
    "#### Observation\n",
    "\n",
    "    The distribution of the time spent on the page follows a normal distribution curve."
   ]
  },
  {
   "cell_type": "markdown",
   "id": "56b3dafd",
   "metadata": {
    "id": "56b3dafd"
   },
   "source": [
    "### Step 1: Define the null and alternate hypotheses"
   ]
  },
  {
   "cell_type": "markdown",
   "id": "d2ac77ef",
   "metadata": {
    "id": "d2ac77ef"
   },
   "source": [
    "The null and alternative hypothesis based on the above claim can be formulated as:"
   ]
  },
  {
   "cell_type": "markdown",
   "id": "5b57585e",
   "metadata": {},
   "source": [
    "> $H_0:$ The mean time spent on the new landing page is less than or equal to 5.38 minutes. <br>\n",
    "\n",
    "> $H_a:$ The mean time spent on the new landing page is greater than 5.38 minutes.\n",
    "\n",
    "Let $\\mu$ be the mean time spent on the new landing page of E-News Express website\n",
    "\n",
    "Mathematically, the above formulated hypotheses can be written as:\n",
    "\n",
    ">$H_0: \\mu \\le 5.38 $ <br>\n",
    "$H_a: \\mu > 5.38 $"
   ]
  },
  {
   "cell_type": "markdown",
   "id": "c7ee4907",
   "metadata": {
    "id": "c7ee4907"
   },
   "source": [
    "### Step 2: Select Appropriate test"
   ]
  },
  {
   "cell_type": "markdown",
   "id": "2c183cd7",
   "metadata": {
    "id": "2c183cd7"
   },
   "source": [
    "This is a case of a one-tailed test for the significance of a single mean. As the population standard deviation is unknown, a one-sample t-test will be appropriate to test the formulated hypotheses."
   ]
  },
  {
   "cell_type": "markdown",
   "id": "e6cd72f0",
   "metadata": {},
   "source": [
    "In a **one sample t-test**, we compare a sample mean with a hypothesized population mean to check if the sample mean differs significantly from the population mean. \n",
    "\n",
    "We are provided that the sample is randomly selected and we assume that it has come from a normally distributed population."
   ]
  },
  {
   "cell_type": "markdown",
   "id": "3f58c9a7",
   "metadata": {
    "id": "3f58c9a7"
   },
   "source": [
    "### Step 3: Decide the significance level"
   ]
  },
  {
   "cell_type": "markdown",
   "id": "92d7d7ee",
   "metadata": {
    "id": "92d7d7ee"
   },
   "source": [
    "The level of significane (alpha) given is 0.05"
   ]
  },
  {
   "cell_type": "markdown",
   "id": "5fed2eac",
   "metadata": {
    "id": "5fed2eac"
   },
   "source": [
    "### Step 4: Collect and prepare data"
   ]
  },
  {
   "cell_type": "code",
   "execution_count": null,
   "id": "f5a59495",
   "metadata": {
    "id": "f5a59495"
   },
   "outputs": [],
   "source": []
  },
  {
   "cell_type": "markdown",
   "id": "f5c5258d",
   "metadata": {
    "id": "f5c5258d"
   },
   "source": [
    "### Step 5: Calculate the p-value"
   ]
  },
  {
   "cell_type": "markdown",
   "id": "59deedbd",
   "metadata": {
    "id": "fac8594a"
   },
   "source": [
    "- We will use the `ttest_1samp()` function from the `scipy.stats` library to perform a one-sample t-test.\n",
    "- The `ttest_1samp()` function takes the sample observations, hypothesized population mean and the direction of the alternative hypothesis as input and returns the test statistic and the p-value for the test. \n",
    "    - The sample observations are the values of app engagement time in the dataset.\n",
    "    - The hypotheisized population mean, as provided in the problem statement and defined in the formulated hypotheses is 6 hours\n",
    "    - As it is a one-tailed test towards the right, we will set the argument `alternative = 'greater'`"
   ]
  },
  {
   "cell_type": "code",
   "execution_count": 93,
   "id": "091ecc47",
   "metadata": {},
   "outputs": [
    {
     "name": "stdout",
     "output_type": "stream",
     "text": [
      "Test Statistic = -0.009250825749671452\n",
      "p-value = 0.5036811848410435\n"
     ]
    }
   ],
   "source": [
    "hyp_mean = 5.38\n",
    "t_stat, p_value = stats.ttest_1samp(df['time_spent_on_the_page'], hyp_mean, alternative='greater') # alternative argument is used to specify the tail of the test.\n",
    "\n",
    "print(\"Test Statistic =\",t_stat)\n",
    "print(\"p-value =\",p_value)"
   ]
  },
  {
   "cell_type": "markdown",
   "id": "359b12f8",
   "metadata": {
    "id": "359b12f8"
   },
   "source": [
    "### Step 6: Compare the p-value with $\\alpha$"
   ]
  },
  {
   "cell_type": "code",
   "execution_count": 94,
   "id": "7be47289",
   "metadata": {
    "id": "7be47289"
   },
   "outputs": [
    {
     "name": "stdout",
     "output_type": "stream",
     "text": [
      "As the p-value 0.5036811848410435 is greater than the level of significance, we fail to reject the null hypothesis.\n"
     ]
    }
   ],
   "source": [
    "# print the conclusion based on p-value\n",
    "if p_value < 0.05:\n",
    "    print(f'As the p-value {p_value} is less than the level of significance, we reject the null hypothesis.')\n",
    "else:\n",
    "    print(f'As the p-value {p_value} is greater than the level of significance, we fail to reject the null hypothesis.')"
   ]
  },
  {
   "cell_type": "markdown",
   "id": "d9affc84",
   "metadata": {
    "id": "d9affc84"
   },
   "source": [
    "### Step 7:  Draw inference"
   ]
  },
  {
   "cell_type": "markdown",
   "id": "6b16dd4b",
   "metadata": {
    "id": "6b16dd4b"
   },
   "source": [
    "Since the p-value is greater than the 5% significance level, we accept the null hypothesis. Hence, we have enough statistical evidence to say that the mean time spent on the new landing page is lesser or equal to the population average (5.38 minutes)."
   ]
  },
  {
   "cell_type": "markdown",
   "id": "1ad0823a",
   "metadata": {
    "id": "1ad0823a"
   },
   "source": [
    "**A similar approach can be followed to answer the other questions.**"
   ]
  },
  {
   "cell_type": "markdown",
   "id": "353e9d24",
   "metadata": {
    "id": "353e9d24"
   },
   "source": [
    "## 2. Is the conversion rate (the proportion of users who visit the landing page and get converted) for the new page greater than the conversion rate for the old page?"
   ]
  },
  {
   "cell_type": "code",
   "execution_count": 95,
   "id": "120fb307",
   "metadata": {},
   "outputs": [
    {
     "data": {
      "image/png": "[encoded data removed]",
      "text/plain": [
       "<Figure size 432x288 with 1 Axes>"
      ]
     },
     "metadata": {
      "needs_background": "light"
     },
     "output_type": "display_data"
    }
   ],
   "source": [
    "# visual analysis\n",
    "pd.crosstab(df.group,df.converted,normalize=True).plot(kind='bar',stacked=True);"
   ]
  },
  {
   "cell_type": "markdown",
   "id": "e0bf950a",
   "metadata": {},
   "source": [
    "The proportion of converted users is higher in the Treatment group than the control group.\n",
    "Based on the sample data, we can infer that the proportion of subscribers is higher for the Treatment group, but is this difference significant enough to conclude that convertion rate is greater on the new landing page?"
   ]
  },
  {
   "cell_type": "markdown",
   "id": "c3513f2d",
   "metadata": {},
   "source": [
    "#### Step 1: Define null and alternative hypotheses"
   ]
  },
  {
   "cell_type": "markdown",
   "id": "a5bbcbe1",
   "metadata": {},
   "source": [
    "𝐻0:  New landing page and convertion rate are independent of each other\n",
    "\n",
    "𝐻𝑎:  New landing page and convertion rate are dependent on each other"
   ]
  },
  {
   "cell_type": "markdown",
   "id": "be30e043",
   "metadata": {},
   "source": [
    "#### Step 2: Select Appropriate test"
   ]
  },
  {
   "cell_type": "markdown",
   "id": "9b1187c9",
   "metadata": {},
   "source": [
    "To test the dependence between two categorical variables, a Chi-square test for independence is used.\n",
    "\n",
    "A chi-square test for independence is a test based on the chi-square probability distribution. It involves the calculation of a chi-square test statistic. A chi-square (χ2) statistic is a measure of the difference between the observed and expected frequencies of the outcomes of a set of events or variables, given the size of the sample and the number of variables in the relationship. The idea behind the chi-square test is to compare what we observe in the random sample to what we expect to observe when we assume that there is no relationship between the two variables"
   ]
  },
  {
   "cell_type": "markdown",
   "id": "3ccfa5da",
   "metadata": {},
   "source": [
    "#### Step 3: Decide the significance level"
   ]
  },
  {
   "cell_type": "markdown",
   "id": "e306fcf4",
   "metadata": {},
   "source": [
    "The level of significane (alpha) given is 0.05"
   ]
  },
  {
   "cell_type": "markdown",
   "id": "036b3497",
   "metadata": {},
   "source": [
    "#### Step 4: Collect and prepare data"
   ]
  },
  {
   "cell_type": "markdown",
   "id": "5ac7e608",
   "metadata": {},
   "source": [
    "Let's prepare the data for the test. To perform the chi-squared test of independance, we need to create the contingency table, for which we will use `pd.crosstab()`"
   ]
  },
  {
   "cell_type": "code",
   "execution_count": 96,
   "id": "7bd7d6fd",
   "metadata": {},
   "outputs": [
    {
     "data": {
      "text/html": [
       "<div>\n",
       "<style scoped>\n",
       "    .dataframe tbody tr th:only-of-type {\n",
       "        vertical-align: middle;\n",
       "    }\n",
       "\n",
       "    .dataframe tbody tr th {\n",
       "        vertical-align: top;\n",
       "    }\n",
       "\n",
       "    .dataframe thead th {\n",
       "        text-align: right;\n",
       "    }\n",
       "</style>\n",
       "<table border=\"1\" class=\"dataframe\">\n",
       "  <thead>\n",
       "    <tr style=\"text-align: right;\">\n",
       "      <th>converted</th>\n",
       "      <th>no</th>\n",
       "      <th>yes</th>\n",
       "    </tr>\n",
       "    <tr>\n",
       "      <th>group</th>\n",
       "      <th></th>\n",
       "      <th></th>\n",
       "    </tr>\n",
       "  </thead>\n",
       "  <tbody>\n",
       "    <tr>\n",
       "      <th>control</th>\n",
       "      <td>29</td>\n",
       "      <td>21</td>\n",
       "    </tr>\n",
       "    <tr>\n",
       "      <th>treatment</th>\n",
       "      <td>17</td>\n",
       "      <td>33</td>\n",
       "    </tr>\n",
       "  </tbody>\n",
       "</table>\n",
       "</div>"
      ],
      "text/plain": [
       "converted  no  yes\n",
       "group             \n",
       "control    29   21\n",
       "treatment  17   33"
      ]
     },
     "execution_count": 96,
     "metadata": {},
     "output_type": "execute_result"
    }
   ],
   "source": [
    "# prepare a contingency table to perform the test\n",
    "contingency_table = pd.crosstab(df.group, df.converted)\n",
    "contingency_table"
   ]
  },
  {
   "cell_type": "markdown",
   "id": "76547416",
   "metadata": {},
   "source": [
    "#### Step 5: Calculate the p-value\n",
    "\n",
    "We will use the chi2_contingency function from the scipy stats library to perform the hypothesis test. It takes the contingency table as an input and returns the test statistic, p-value, degrees of freedom, and the expected frequencies as the output."
   ]
  },
  {
   "cell_type": "code",
   "execution_count": 97,
   "id": "4f2ae908",
   "metadata": {},
   "outputs": [
    {
     "name": "stdout",
     "output_type": "stream",
     "text": [
      "Test Statistic = 4.871175523349437\n",
      "p-value = 0.02730889175492232\n",
      "Degrees of freedom = 1\n",
      "Expected frequencies \n",
      " [[23. 27.]\n",
      " [23. 27.]]\n"
     ]
    }
   ],
   "source": [
    "# import the required test function\n",
    "from scipy.stats import chi2_contingency\n",
    "\n",
    "# calculate the test results\n",
    "chi, p_value, dof, expected = chi2_contingency(contingency_table)\n",
    "\n",
    "print(\"Test Statistic =\",chi)\n",
    "print(\"p-value =\",p_value)\n",
    "print(\"Degrees of freedom =\",dof)\n",
    "print(\"Expected frequencies \\n\", expected)"
   ]
  },
  {
   "cell_type": "markdown",
   "id": "6d8301f7",
   "metadata": {},
   "source": [
    "#### Step 6: Compare the p-value with $\\alpha$"
   ]
  },
  {
   "cell_type": "code",
   "execution_count": 98,
   "id": "56c0b236",
   "metadata": {},
   "outputs": [
    {
     "name": "stdout",
     "output_type": "stream",
     "text": [
      "As the p-value 0.02730889175492232 is less than the level of significance, we reject the null hypothesis.\n"
     ]
    }
   ],
   "source": [
    "# print the conclusion based on p-value\n",
    "if p_value < 0.05:\n",
    "    print(f'As the p-value {p_value} is less than the level of significance, we reject the null hypothesis.')\n",
    "else:\n",
    "    print(f'As the p-value {p_value} is greater than the level of significance, we fail to reject the null hypothesis.')"
   ]
  },
  {
   "cell_type": "markdown",
   "id": "f951bacc",
   "metadata": {},
   "source": [
    "#### Step 7:  Draw inference\n",
    "\n",
    "Since the p-value is less than the 5% significance level, we reject the null hypothesis. Hence, we have enough statistical evidence to say that the new landing page and conversion rate are dependent on each other. Hence, convertion rate is greater in the treatment group."
   ]
  },
  {
   "cell_type": "markdown",
   "id": "d49bfa2d",
   "metadata": {
    "id": "d49bfa2d"
   },
   "source": [
    "## 3. Is the conversion and preferred language are independent or related?"
   ]
  },
  {
   "cell_type": "code",
   "execution_count": 99,
   "id": "7e000e67",
   "metadata": {},
   "outputs": [
    {
     "data": {
      "image/png": "[encoded data removed]",
      "text/plain": [
       "<Figure size 432x288 with 1 Axes>"
      ]
     },
     "metadata": {
      "needs_background": "light"
     },
     "output_type": "display_data"
    }
   ],
   "source": [
    "# visual analysis\n",
    "pd.crosstab(df.language_preferred,df.converted,normalize=True).plot(kind='bar',stacked=True);"
   ]
  },
  {
   "cell_type": "markdown",
   "id": "a0012c8c",
   "metadata": {},
   "source": [
    "From the distribution, the proportion of converted users is higher in the English than French and Spanish respectively.\n",
    "Based on the sample data, we can infer that the proportion of subscribers is higher English, but is this difference significant enough to conclude that convertion rate is dependent on the preferred language?"
   ]
  },
  {
   "cell_type": "markdown",
   "id": "542657b5",
   "metadata": {},
   "source": [
    "#### Step 1: Define null and alternative hypotheses\n",
    "\n",
    "𝐻0:  Preferred languuage and convertion rate are independent of each other\n",
    "\n",
    "𝐻𝑎:  Preferred language and convertion rate are related on each other"
   ]
  },
  {
   "cell_type": "markdown",
   "id": "0e24f482",
   "metadata": {},
   "source": [
    "#### Step 2: Select Appropriate test\n",
    "\n",
    "To test the dependence between two categorical variables, a Chi-square test for independence is used.\n",
    "\n",
    "A chi-square test for independence is a test based on the chi-square probability distribution. It involves the calculation of a chi-square test statistic. A chi-square (χ2) statistic is a measure of the difference between the observed and expected frequencies of the outcomes of a set of events or variables, given the size of the sample and the number of variables in the relationship. The idea behind the chi-square test is to compare what we observe in the random sample to what we expect to observe when we assume that there is no relationship between the two variables"
   ]
  },
  {
   "cell_type": "markdown",
   "id": "b252a458",
   "metadata": {},
   "source": [
    "#### Step 3: Decide the significance level\n",
    "\n",
    "The level of significane (alpha) given is 0.05"
   ]
  },
  {
   "cell_type": "markdown",
   "id": "9d7666a4",
   "metadata": {},
   "source": [
    "#### Step 4: Collect and prepare data\n",
    "\n",
    "Let's prepare the data for the test. To perform the chi-squared test of independance, we need to create the contingency table, for which we will use `pd.crosstab()`"
   ]
  },
  {
   "cell_type": "code",
   "execution_count": 100,
   "id": "fc10e643",
   "metadata": {},
   "outputs": [
    {
     "data": {
      "text/html": [
       "<div>\n",
       "<style scoped>\n",
       "    .dataframe tbody tr th:only-of-type {\n",
       "        vertical-align: middle;\n",
       "    }\n",
       "\n",
       "    .dataframe tbody tr th {\n",
       "        vertical-align: top;\n",
       "    }\n",
       "\n",
       "    .dataframe thead th {\n",
       "        text-align: right;\n",
       "    }\n",
       "</style>\n",
       "<table border=\"1\" class=\"dataframe\">\n",
       "  <thead>\n",
       "    <tr style=\"text-align: right;\">\n",
       "      <th>converted</th>\n",
       "      <th>no</th>\n",
       "      <th>yes</th>\n",
       "    </tr>\n",
       "    <tr>\n",
       "      <th>language_preferred</th>\n",
       "      <th></th>\n",
       "      <th></th>\n",
       "    </tr>\n",
       "  </thead>\n",
       "  <tbody>\n",
       "    <tr>\n",
       "      <th>English</th>\n",
       "      <td>11</td>\n",
       "      <td>21</td>\n",
       "    </tr>\n",
       "    <tr>\n",
       "      <th>French</th>\n",
       "      <td>19</td>\n",
       "      <td>15</td>\n",
       "    </tr>\n",
       "    <tr>\n",
       "      <th>Spanish</th>\n",
       "      <td>16</td>\n",
       "      <td>18</td>\n",
       "    </tr>\n",
       "  </tbody>\n",
       "</table>\n",
       "</div>"
      ],
      "text/plain": [
       "converted           no  yes\n",
       "language_preferred         \n",
       "English             11   21\n",
       "French              19   15\n",
       "Spanish             16   18"
      ]
     },
     "execution_count": 100,
     "metadata": {},
     "output_type": "execute_result"
    }
   ],
   "source": [
    "# prepare a contingency table to perform the test\n",
    "contingency_table = pd.crosstab(df.language_preferred, df.converted)\n",
    "contingency_table"
   ]
  },
  {
   "cell_type": "markdown",
   "id": "c0e0fdb3",
   "metadata": {},
   "source": [
    "#### Step 5: Calculate the p-value\n",
    "\n",
    "We will use the chi2_contingency function from the scipy stats library to perform the hypothesis test. It takes the contingency table as an input and returns the test statistic, p-value, degrees of freedom, and the expected frequencies as the output."
   ]
  },
  {
   "cell_type": "code",
   "execution_count": 101,
   "id": "4d94a328",
   "metadata": {},
   "outputs": [
    {
     "name": "stdout",
     "output_type": "stream",
     "text": [
      "Test Statistic = 3.0930306905370832\n",
      "p-value = 0.2129888748754345\n",
      "Degrees of freedom = 2\n",
      "Expected frequencies \n",
      " [[14.72 17.28]\n",
      " [15.64 18.36]\n",
      " [15.64 18.36]]\n"
     ]
    }
   ],
   "source": [
    "# calculate the test results\n",
    "chi, p_value, dof, expected = chi2_contingency(contingency_table)\n",
    "\n",
    "print(\"Test Statistic =\",chi)\n",
    "print(\"p-value =\",p_value)\n",
    "print(\"Degrees of freedom =\",dof)\n",
    "print(\"Expected frequencies \\n\", expected)"
   ]
  },
  {
   "cell_type": "markdown",
   "id": "8f18dd6b",
   "metadata": {},
   "source": [
    "#### Step 6: Compare the p-value with $\\alpha$"
   ]
  },
  {
   "cell_type": "code",
   "execution_count": 102,
   "id": "0a35bfd7",
   "metadata": {},
   "outputs": [
    {
     "name": "stdout",
     "output_type": "stream",
     "text": [
      "As the p-value 0.2129888748754345 is greater than the level of significance, we fail to reject the null hypothesis.\n"
     ]
    }
   ],
   "source": [
    "# print the conclusion based on p-value\n",
    "if p_value < 0.05:\n",
    "    print(f'As the p-value {p_value} is less than the level of significance, we reject the null hypothesis.')\n",
    "else:\n",
    "    print(f'As the p-value {p_value} is greater than the level of significance, we fail to reject the null hypothesis.')"
   ]
  },
  {
   "cell_type": "markdown",
   "id": "1e6c602b",
   "metadata": {},
   "source": [
    "#### Step 7:  Draw inference\n",
    "\n",
    "Since the p-value is greater than the 5% significance level, we fail to reject the null hypothesis. Hence, we have enough statistical evidence to say that the preferred language and conversion rate are independent on each other."
   ]
  },
  {
   "cell_type": "markdown",
   "id": "8d585a90",
   "metadata": {
    "id": "8d585a90"
   },
   "source": [
    "## 4. Is the time spent on the new page same for the different language users?"
   ]
  },
  {
   "cell_type": "code",
   "execution_count": 103,
   "id": "d7dfe84c",
   "metadata": {},
   "outputs": [
    {
     "data": {
      "image/png": "[encoded data removed]",
      "text/plain": [
       "<Figure size 1080x720 with 1 Axes>"
      ]
     },
     "metadata": {
      "needs_background": "light"
     },
     "output_type": "display_data"
    }
   ],
   "source": [
    "plt.figure(figsize=(15,10))\n",
    "sns.boxplot(data=df, y='time_spent_on_the_page', x='group', hue = 'language_preferred');"
   ]
  },
  {
   "cell_type": "markdown",
   "id": "be56fbb8",
   "metadata": {},
   "source": [
    "#### Observation\n",
    "\n",
    "The time spent for on the new page is different for the different languages.\n",
    "\n",
    "English language have a minimum time of about 3.8 minutes, maximum time of aprrox. 10.5 minutes and a median time of approx. 7 minutes.\n",
    "\n",
    "French language have a minimum time of about 3.6 minutes, maximum time of aprrox. 9.2 minutes and a median time of approx. 5.4 minutes. Also there is a lower outlier of apprx. 11 minutes\n",
    "\n",
    "Spanish language have a minimum time of about 4 minutes, maximum time of aprrox. 8.2 minutes and a median time of approx. 6.4 minutes. Also there is a lower outlier of apprx. 1.8 minutes"
   ]
  },
  {
   "cell_type": "markdown",
   "id": "3acbc947",
   "metadata": {
    "id": "3acbc947"
   },
   "source": [
    "## Conclusion and Business Recommendations"
   ]
  },
  {
   "cell_type": "markdown",
   "id": "21fb1063",
   "metadata": {
    "id": "21fb1063"
   },
   "source": [
    "#### Conclusion:\n",
    "\n",
    "1. The people that were converted in both groups spent more time on the landing pages. Hence a key indicator for conversion is making the visitors explore more on the landing page.\n",
    "\n",
    "2. The average time spent on the landing pages from the data provided is 5.38 minutes.\n",
    "\n",
    "3. Since the p-value (p-value = 0.5036811848410435 at 5% significance level), Hence, we have enough statistical evidence to say that the mean time spent on the new landing page is lesser or equal to the population average (5.38 minutes).\n",
    "\n",
    "4. Since the p-value (p-value 0.02730889175492232 at 5% significance level), Hence, we have enough statistical evidence to say that the new landing page and conversion rate are dependent on each other. Hence, convertion rate is greater in the treatment group.\n",
    "\n",
    "5. Since the p-value (p-value 0.02730889175492232 at 5% significance level). Hence, we have enough statistical evidence to say that the preferred language and conversion rate are independent on each other.\n",
    "\n",
    "6. The time spect on the new landing page is different for the various languages.\n",
    "    -English language have a minimum time of about 3.8 minutes, maximum time of aprrox. 10.5 minutes and a median time of approx. 7 minutes.\n",
    "    -French language have a minimum time of about 3.6 minutes, maximum time of aprrox. 9.2 minutes and a median time of approx. 5.4 minutes. Also there is a lower outlier of apprx. 11 minutes\n",
    "    -Spanish language have a minimum time of about 4 minutes, maximum time of aprrox. 8.2 minutes and a median time of approx. 6.4 minutes. Also there is a lower outlier of apprx. 1.8 minutes\n"
   ]
  },
  {
   "cell_type": "markdown",
   "id": "7142878a",
   "metadata": {},
   "source": [
    "#### Business Recommendation\n",
    "\n",
    "1. More catchy contents should be uploaded on the landing pages to keep visitors to the page more engaged, since there is a direct link with visitors who were converted to the time spent on the page for both groups.\n",
    "\n",
    "2. The new landing page should be used. It should also be updated at relatively frequent intervals.\n",
    "\n",
    "3.  Further statistical analysis can be done to check if increasing the number of preferred languages will increase the time spent on the website, which may inturn increase the conversion rate.\n",
    "\n",
    "4. English language had more onscreen time, hence it will be proper for the English landing page of the website to have more content.\n",
    "\n",
    "5. Interactive polls and jingles should be added to the landing webpage as it will tend to make visitors feel involved, and give them a sense of being carried along"
   ]
  },
  {
   "cell_type": "markdown",
   "id": "U0dAd4i0iCHo",
   "metadata": {
    "id": "U0dAd4i0iCHo"
   },
   "source": [
    "___"
   ]
  }
 ],
 "metadata": {
  "colab": {
   "collapsed_sections": [
    "a6a3d218",
    "6970dd99",
    "9d75cfa2",
    "68f3b2c9",
    "fad2de2f",
    "27906576",
    "e5fdf0c8",
    "56b3dafd",
    "c7ee4907",
    "3f58c9a7",
    "5fed2eac",
    "f5c5258d",
    "359b12f8",
    "d9affc84",
    "353e9d24",
    "d49bfa2d",
    "8d585a90",
    "3acbc947"
   ],
   "name": "ENews_Express_Learner_Notebook_Full_Code v1.1.ipynb",
   "provenance": []
  },
  "kernelspec": {
   "display_name": "Python 3 (ipykernel)",
   "language": "python",
   "name": "python3"
  },
  "language_info": {
   "codemirror_mode": {
    "name": "ipython",
    "version": 3
   },
   "file_extension": ".py",
   "mimetype": "text/x-python",
   "name": "python",
   "nbconvert_exporter": "python",
   "pygments_lexer": "ipython3",
   "version": "3.9.12"
  }
 },
 "nbformat": 4,
 "nbformat_minor": 5
}
